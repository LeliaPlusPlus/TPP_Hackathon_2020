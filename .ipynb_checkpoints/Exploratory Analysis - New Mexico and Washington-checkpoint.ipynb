{
 "cells": [
  {
   "cell_type": "markdown",
   "metadata": {},
   "source": [
    "# Exploratory Data Analysis for New Mexico and Washington State\n",
    "Author: Lelia Hampton"
   ]
  },
  {
   "cell_type": "code",
   "execution_count": 3,
   "metadata": {},
   "outputs": [],
   "source": [
    "# We're importing the necessary libraries to manipulate, analyze, and visualize data\n",
    "import pandas as pd # data manipulation + analysis\n",
    "import  matplotlib.pyplot as plt # data visualization\n",
    "%matplotlib inline"
   ]
  },
  {
   "cell_type": "code",
   "execution_count": 4,
   "metadata": {},
   "outputs": [],
   "source": [
    "# this is our dataframe for New Mexico\n",
    "nm_df = pd.read_csv(\"data/New_Mexico_20201021.csv\")"
   ]
  },
  {
   "cell_type": "code",
   "execution_count": 7,
   "metadata": {},
   "outputs": [
    {
     "data": {
      "text/plain": [
       "1608"
      ]
     },
     "execution_count": 7,
     "metadata": {},
     "output_type": "execute_result"
    }
   ],
   "source": [
    "# Let's get the number of entries in the dataframe\n",
    "len(nm_df)"
   ]
  },
  {
   "cell_type": "code",
   "execution_count": 5,
   "metadata": {},
   "outputs": [
    {
     "data": {
      "text/plain": [
       "Index(['Unnamed: 0', 'Facility', 'Name', 'State', 'Date',\n",
       "       'Residents.Confirmed', 'Staff.Confirmed', 'Resident.Deaths',\n",
       "       'Staff.Deaths', 'Residents.Recovered', 'Staff.Recovered',\n",
       "       'Residents.Tested', 'Staff.Tested', 'Residents.Pending',\n",
       "       'Staff.Pending', 'Residents.Negative', 'Staff.Negative',\n",
       "       'Residents.Quarantine', 'Staff.Quarantine', 'hifld_id', 'Count.ID',\n",
       "       'Population_HIFLD', 'Population.Source'],\n",
       "      dtype='object')"
      ]
     },
     "execution_count": 5,
     "metadata": {},
     "output_type": "execute_result"
    }
   ],
   "source": [
    "nm_df.columns"
   ]
  },
  {
   "cell_type": "code",
   "execution_count": 6,
   "metadata": {},
   "outputs": [
    {
     "data": {
      "text/html": [
       "<div>\n",
       "<style scoped>\n",
       "    .dataframe tbody tr th:only-of-type {\n",
       "        vertical-align: middle;\n",
       "    }\n",
       "\n",
       "    .dataframe tbody tr th {\n",
       "        vertical-align: top;\n",
       "    }\n",
       "\n",
       "    .dataframe thead th {\n",
       "        text-align: right;\n",
       "    }\n",
       "</style>\n",
       "<table border=\"1\" class=\"dataframe\">\n",
       "  <thead>\n",
       "    <tr style=\"text-align: right;\">\n",
       "      <th></th>\n",
       "      <th>Unnamed: 0</th>\n",
       "      <th>Facility</th>\n",
       "      <th>Name</th>\n",
       "      <th>State</th>\n",
       "      <th>Date</th>\n",
       "      <th>Residents.Confirmed</th>\n",
       "      <th>Staff.Confirmed</th>\n",
       "      <th>Resident.Deaths</th>\n",
       "      <th>Staff.Deaths</th>\n",
       "      <th>Residents.Recovered</th>\n",
       "      <th>...</th>\n",
       "      <th>Residents.Pending</th>\n",
       "      <th>Staff.Pending</th>\n",
       "      <th>Residents.Negative</th>\n",
       "      <th>Staff.Negative</th>\n",
       "      <th>Residents.Quarantine</th>\n",
       "      <th>Staff.Quarantine</th>\n",
       "      <th>hifld_id</th>\n",
       "      <th>Count.ID</th>\n",
       "      <th>Population_HIFLD</th>\n",
       "      <th>Population.Source</th>\n",
       "    </tr>\n",
       "  </thead>\n",
       "  <tbody>\n",
       "    <tr>\n",
       "      <th>0</th>\n",
       "      <td>1</td>\n",
       "      <td>Prison</td>\n",
       "      <td>STATEWIDE</td>\n",
       "      <td>New Mexico</td>\n",
       "      <td>2020-03-31</td>\n",
       "      <td>NaN</td>\n",
       "      <td>NaN</td>\n",
       "      <td>NaN</td>\n",
       "      <td>NaN</td>\n",
       "      <td>NaN</td>\n",
       "      <td>...</td>\n",
       "      <td>NaN</td>\n",
       "      <td>NaN</td>\n",
       "      <td>NaN</td>\n",
       "      <td>NaN</td>\n",
       "      <td>NaN</td>\n",
       "      <td>NaN</td>\n",
       "      <td>NaN</td>\n",
       "      <td>806</td>\n",
       "      <td>NaN</td>\n",
       "      <td>HIFLD Prison Dataset</td>\n",
       "    </tr>\n",
       "    <tr>\n",
       "      <th>1</th>\n",
       "      <td>2</td>\n",
       "      <td>Prison</td>\n",
       "      <td>STATEWIDE</td>\n",
       "      <td>New Mexico</td>\n",
       "      <td>2020-04-01</td>\n",
       "      <td>NaN</td>\n",
       "      <td>NaN</td>\n",
       "      <td>NaN</td>\n",
       "      <td>NaN</td>\n",
       "      <td>NaN</td>\n",
       "      <td>...</td>\n",
       "      <td>NaN</td>\n",
       "      <td>NaN</td>\n",
       "      <td>NaN</td>\n",
       "      <td>NaN</td>\n",
       "      <td>NaN</td>\n",
       "      <td>NaN</td>\n",
       "      <td>NaN</td>\n",
       "      <td>806</td>\n",
       "      <td>NaN</td>\n",
       "      <td>HIFLD Prison Dataset</td>\n",
       "    </tr>\n",
       "    <tr>\n",
       "      <th>2</th>\n",
       "      <td>3</td>\n",
       "      <td>Prison</td>\n",
       "      <td>STATEWIDE</td>\n",
       "      <td>New Mexico</td>\n",
       "      <td>2020-04-02</td>\n",
       "      <td>NaN</td>\n",
       "      <td>NaN</td>\n",
       "      <td>NaN</td>\n",
       "      <td>NaN</td>\n",
       "      <td>NaN</td>\n",
       "      <td>...</td>\n",
       "      <td>NaN</td>\n",
       "      <td>NaN</td>\n",
       "      <td>NaN</td>\n",
       "      <td>NaN</td>\n",
       "      <td>NaN</td>\n",
       "      <td>NaN</td>\n",
       "      <td>NaN</td>\n",
       "      <td>806</td>\n",
       "      <td>NaN</td>\n",
       "      <td>HIFLD Prison Dataset</td>\n",
       "    </tr>\n",
       "    <tr>\n",
       "      <th>3</th>\n",
       "      <td>4</td>\n",
       "      <td>Prison</td>\n",
       "      <td>STATEWIDE</td>\n",
       "      <td>New Mexico</td>\n",
       "      <td>2020-04-03</td>\n",
       "      <td>NaN</td>\n",
       "      <td>NaN</td>\n",
       "      <td>NaN</td>\n",
       "      <td>NaN</td>\n",
       "      <td>NaN</td>\n",
       "      <td>...</td>\n",
       "      <td>NaN</td>\n",
       "      <td>NaN</td>\n",
       "      <td>NaN</td>\n",
       "      <td>NaN</td>\n",
       "      <td>NaN</td>\n",
       "      <td>NaN</td>\n",
       "      <td>NaN</td>\n",
       "      <td>806</td>\n",
       "      <td>NaN</td>\n",
       "      <td>HIFLD Prison Dataset</td>\n",
       "    </tr>\n",
       "    <tr>\n",
       "      <th>4</th>\n",
       "      <td>5</td>\n",
       "      <td>Prison</td>\n",
       "      <td>STATEWIDE</td>\n",
       "      <td>New Mexico</td>\n",
       "      <td>2020-04-04</td>\n",
       "      <td>NaN</td>\n",
       "      <td>NaN</td>\n",
       "      <td>NaN</td>\n",
       "      <td>NaN</td>\n",
       "      <td>NaN</td>\n",
       "      <td>...</td>\n",
       "      <td>NaN</td>\n",
       "      <td>NaN</td>\n",
       "      <td>NaN</td>\n",
       "      <td>NaN</td>\n",
       "      <td>NaN</td>\n",
       "      <td>NaN</td>\n",
       "      <td>NaN</td>\n",
       "      <td>806</td>\n",
       "      <td>NaN</td>\n",
       "      <td>HIFLD Prison Dataset</td>\n",
       "    </tr>\n",
       "  </tbody>\n",
       "</table>\n",
       "<p>5 rows × 23 columns</p>\n",
       "</div>"
      ],
      "text/plain": [
       "   Unnamed: 0 Facility       Name       State        Date  \\\n",
       "0           1   Prison  STATEWIDE  New Mexico  2020-03-31   \n",
       "1           2   Prison  STATEWIDE  New Mexico  2020-04-01   \n",
       "2           3   Prison  STATEWIDE  New Mexico  2020-04-02   \n",
       "3           4   Prison  STATEWIDE  New Mexico  2020-04-03   \n",
       "4           5   Prison  STATEWIDE  New Mexico  2020-04-04   \n",
       "\n",
       "   Residents.Confirmed  Staff.Confirmed  Resident.Deaths  Staff.Deaths  \\\n",
       "0                  NaN              NaN              NaN           NaN   \n",
       "1                  NaN              NaN              NaN           NaN   \n",
       "2                  NaN              NaN              NaN           NaN   \n",
       "3                  NaN              NaN              NaN           NaN   \n",
       "4                  NaN              NaN              NaN           NaN   \n",
       "\n",
       "   Residents.Recovered  ...  Residents.Pending  Staff.Pending  \\\n",
       "0                  NaN  ...                NaN            NaN   \n",
       "1                  NaN  ...                NaN            NaN   \n",
       "2                  NaN  ...                NaN            NaN   \n",
       "3                  NaN  ...                NaN            NaN   \n",
       "4                  NaN  ...                NaN            NaN   \n",
       "\n",
       "   Residents.Negative  Staff.Negative  Residents.Quarantine  Staff.Quarantine  \\\n",
       "0                 NaN             NaN                   NaN               NaN   \n",
       "1                 NaN             NaN                   NaN               NaN   \n",
       "2                 NaN             NaN                   NaN               NaN   \n",
       "3                 NaN             NaN                   NaN               NaN   \n",
       "4                 NaN             NaN                   NaN               NaN   \n",
       "\n",
       "   hifld_id  Count.ID  Population_HIFLD     Population.Source  \n",
       "0       NaN       806               NaN  HIFLD Prison Dataset  \n",
       "1       NaN       806               NaN  HIFLD Prison Dataset  \n",
       "2       NaN       806               NaN  HIFLD Prison Dataset  \n",
       "3       NaN       806               NaN  HIFLD Prison Dataset  \n",
       "4       NaN       806               NaN  HIFLD Prison Dataset  \n",
       "\n",
       "[5 rows x 23 columns]"
      ]
     },
     "execution_count": 6,
     "metadata": {},
     "output_type": "execute_result"
    }
   ],
   "source": [
    "# Let's look at the first five entries of the dataframe to get a sense of the data\n",
    "nm_df.head()"
   ]
  },
  {
   "cell_type": "code",
   "execution_count": 9,
   "metadata": {},
   "outputs": [
    {
     "data": {
      "text/plain": [
       "Prison    1608\n",
       "Name: Facility, dtype: int64"
      ]
     },
     "execution_count": 9,
     "metadata": {},
     "output_type": "execute_result"
    }
   ],
   "source": [
    "# Let's count how many of each discrete category is present in this column\n",
    "nm_df[\"Facility\"].value_counts()"
   ]
  },
  {
   "cell_type": "code",
   "execution_count": 12,
   "metadata": {},
   "outputs": [
    {
     "data": {
      "text/plain": [
       "STATEWIDE                            179\n",
       "NORTHEAST NEW MEXICO CF NENMCF       170\n",
       "OTERO COUNTY PRISON FACILITY OCPF    130\n",
       "SPRINGER CC SCC                      130\n",
       "WESTERN NEW MEXICO CF WNMCF          130\n",
       "PENITENTIARY OF NEW MEXICO PNM       130\n",
       "SOUTHERN NEW MEXICO CF SNMCF         130\n",
       "CENTRAL NEW MEXICO CF CNMCF          130\n",
       "ROSWELL CC RCC                       130\n",
       "LEA COUNTY CF LCCF                   130\n",
       "GUADALUPE COUNTY CF GCCF             130\n",
       "NORTHWEST NEW MEXICO CC NWNMCC        89\n",
       "Name: Name, dtype: int64"
      ]
     },
     "execution_count": 12,
     "metadata": {},
     "output_type": "execute_result"
    }
   ],
   "source": [
    "# Let's count how many of each discrete category is present in this column\n",
    "prison_name = nm_df[\"Name\"].value_counts()\n",
    "prison_name"
   ]
  },
  {
   "cell_type": "code",
   "execution_count": 18,
   "metadata": {},
   "outputs": [
    {
     "data": {
      "text/plain": [
       "130"
      ]
     },
     "execution_count": 18,
     "metadata": {},
     "output_type": "execute_result"
    }
   ],
   "source": [
    "prison_name[10]"
   ]
  },
  {
   "cell_type": "code",
   "execution_count": 19,
   "metadata": {},
   "outputs": [
    {
     "data": {
      "image/png": "[encoded data removed]",
      "text/plain": [
       "<Figure size 432x288 with 1 Axes>"
      ]
     },
     "metadata": {},
     "output_type": "display_data"
    }
   ],
   "source": [
    "labels = [\"STATEWIDE\", \"NORTHEAST NEW MEXICO CF NENMCF\", \"OTERO COUNTY PRISON FACILITY OCPF\", \"SPRINGER CC SCC\", \\\n",
    "          \"WESTERN NEW MEXICO CF WNMCF\", \"PENITENTIARY OF NEW MEXICO PNM\", \"SOUTHERN NEW MEXICO CF SNMCF\", \\\n",
    "          \"CENTRAL NEW MEXICO CF CNMCF\", \"ROSWELL CC RCC\", \"LEA COUNTY CF LCCF\", \"GUADALUPE COUNTY CF GCCF\", \\\n",
    "          \"NORTHWEST NEW MEXICO CC NWNMCC\"]\n",
    "sizes = prison_name\n",
    "\n",
    "fig1, ax1 = plt.subplots()\n",
    "ax1.pie(sizes, autopct='%1.1f%%',\n",
    "        shadow=True, startangle=90)\n",
    "ax1.axis('equal')  # Equal aspect ratio ensures that pie is drawn as a circle.\n",
    "plt.legend(labels, loc='best', bbox_to_anchor=(-0.1, 1.),\n",
    "           fontsize=12)\n",
    "plt.title('Percentage of Data Points by Prison')\n",
    "plt.show()"
   ]
  },
  {
   "cell_type": "code",
   "execution_count": null,
   "metadata": {},
   "outputs": [],
   "source": [
    "# Let's get descriptive statistics for our numeric columns\n"
   ]
  },
  {
   "cell_type": "code",
   "execution_count": null,
   "metadata": {},
   "outputs": [],
   "source": []
  },
  {
   "cell_type": "code",
   "execution_count": null,
   "metadata": {},
   "outputs": [],
   "source": []
  }
 ],
 "metadata": {
  "kernelspec": {
   "display_name": "Python 3",
   "language": "python",
   "name": "python3"
  },
  "language_info": {
   "codemirror_mode": {
    "name": "ipython",
    "version": 3
   },
   "file_extension": ".py",
   "mimetype": "text/x-python",
   "name": "python",
   "nbconvert_exporter": "python",
   "pygments_lexer": "ipython3",
   "version": "3.6.5"
  }
 },
 "nbformat": 4,
 "nbformat_minor": 2
}
